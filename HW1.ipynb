{
 "cells": [
  {
   "cell_type": "code",
   "execution_count": 1,
   "metadata": {},
   "outputs": [
    {
     "name": "stdout",
     "output_type": "stream",
     "text": [
      "int değeri gir:3\n",
      "int değeri gir:7\n",
      "string değeri gir:mert\n",
      "boolean değeri gir:true\n",
      "float değeri gir:4.2\n"
     ]
    }
   ],
   "source": [
    "a=int(input(\"int değeri gir:\"))\n",
    "b=int(input(\"int değeri gir:\"))\n",
    "c=str(input(\"string değeri gir:\"))\n",
    "d=bool(input(\"boolean değeri gir:\"))\n",
    "e=float(input(\"float değeri gir:\"))\n",
    "\n",
    "\n",
    "\n"
   ]
  },
  {
   "cell_type": "code",
   "execution_count": 3,
   "metadata": {},
   "outputs": [
    {
     "name": "stdout",
     "output_type": "stream",
     "text": [
      "<class 'int'>\n",
      "<class 'int'>\n",
      "<class 'str'>\n",
      "<class 'bool'>\n"
     ]
    }
   ],
   "source": [
    "print(format(type(a)))\n",
    "print(format(type(b)))\n",
    "print(format(type(c)))\n",
    "print(format(type(d)))"
   ]
  },
  {
   "cell_type": "code",
   "execution_count": null,
   "metadata": {},
   "outputs": [],
   "source": []
  }
 ],
 "metadata": {
  "kernelspec": {
   "display_name": "Python 3",
   "language": "python",
   "name": "python3"
  },
  "language_info": {
   "codemirror_mode": {
    "name": "ipython",
    "version": 3
   },
   "file_extension": ".py",
   "mimetype": "text/x-python",
   "name": "python",
   "nbconvert_exporter": "python",
   "pygments_lexer": "ipython3",
   "version": "3.7.7"
  }
 },
 "nbformat": 4,
 "nbformat_minor": 4
}
