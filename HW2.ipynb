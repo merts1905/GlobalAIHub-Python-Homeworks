{
 "cells": [
  {
   "cell_type": "code",
   "execution_count": 1,
   "metadata": {},
   "outputs": [
    {
     "name": "stdout",
     "output_type": "stream",
     "text": [
      "Please enter your user first name: mert\n",
      "Please enter your last name: somek\n",
      "Please enter your age: 23\n",
      "Please enter your birth year: 1997\n",
      "mert\n",
      "somek\n",
      "23\n",
      "1997\n",
      "You can go out to the street.\n"
     ]
    }
   ],
   "source": [
    "user=[]\n",
    "firstname=input(\"Please enter your user first name: \")\n",
    "lastname=input(\"Please enter your last name: \")\n",
    "age=int(input(\"Please enter your age: \"))\n",
    "birthofyear=int(input(\"Please enter your birth year: \"))\n",
    "user.append(firstname)\n",
    "user.append(lastname)\n",
    "user.append(age)\n",
    "user.append(birthofyear)\n",
    "\n",
    "\n",
    "for i in user:\n",
    "    print(i)\n",
    "\n",
    "if age<18:\n",
    "        print(\"You can't go out because it's too dangerous.\")\n",
    "else:\n",
    "        print(\"You can go out to the street.\")"
   ]
  },
  {
   "cell_type": "code",
   "execution_count": null,
   "metadata": {},
   "outputs": [],
   "source": []
  }
 ],
 "metadata": {
  "kernelspec": {
   "display_name": "Python 3",
   "language": "python",
   "name": "python3"
  },
  "language_info": {
   "codemirror_mode": {
    "name": "ipython",
    "version": 3
   },
   "file_extension": ".py",
   "mimetype": "text/x-python",
   "name": "python",
   "nbconvert_exporter": "python",
   "pygments_lexer": "ipython3",
   "version": "3.7.7"
  }
 },
 "nbformat": 4,
 "nbformat_minor": 4
}
