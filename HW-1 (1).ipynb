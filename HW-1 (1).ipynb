{
 "cells": [
  {
   "cell_type": "code",
   "execution_count": 14,
   "metadata": {},
   "outputs": [
    {
     "name": "stdout",
     "output_type": "stream",
     "text": [
      "int değeri gir:3\n",
      "boolean değeri gir:true\n",
      "string değeri gir:mert\n",
      "string değeri gir:istanbul\n",
      "float değeri gir:4.2\n"
     ]
    }
   ],
   "source": [
    "a=int(input(\"int değeri gir:\"))\n",
    "b=bool(input(\"boolean değeri gir:\"))\n",
    "c=str(input(\"string değeri gir:\"))\n",
    "d=str(input(\"string değeri gir:\"))\n",
    "e=float(input(\"float değeri gir:\"))"
   ]
  },
  {
   "cell_type": "code",
   "execution_count": 25,
   "metadata": {},
   "outputs": [
    {
     "data": {
      "text/plain": [
       "\"value type of a is <class 'int'> \\nvalue type of b is <class 'bool'>  \\nvalue type of c is <class 'str'>\\nvalue type of d is <class 'str'>\\nvalue type of e is <class 'float'>\\n\""
      ]
     },
     "execution_count": 25,
     "metadata": {},
     "output_type": "execute_result"
    }
   ],
   "source": [
    "f\"\"\"value type of a is {format(type(a))} \n",
    "value type of b is {format(type(b))}  \n",
    "value type of c is {format(type(c))}\n",
    "value type of d is {format(type(d))}\n",
    "value type of e is {format(type(e))}\n",
    "\"\"\"\n",
    "\n"
   ]
  },
  {
   "cell_type": "code",
   "execution_count": null,
   "metadata": {},
   "outputs": [],
   "source": [
    "\n"
   ]
  },
  {
   "cell_type": "code",
   "execution_count": null,
   "metadata": {},
   "outputs": [],
   "source": []
  }
 ],
 "metadata": {
  "kernelspec": {
   "display_name": "Python 3",
   "language": "python",
   "name": "python3"
  },
  "language_info": {
   "codemirror_mode": {
    "name": "ipython",
    "version": 3
   },
   "file_extension": ".py",
   "mimetype": "text/x-python",
   "name": "python",
   "nbconvert_exporter": "python",
   "pygments_lexer": "ipython3",
   "version": "3.7.7"
  }
 },
 "nbformat": 4,
 "nbformat_minor": 4
}
